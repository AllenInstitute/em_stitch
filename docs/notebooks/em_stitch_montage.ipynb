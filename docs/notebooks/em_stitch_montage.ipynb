{
 "cells": [
  {
   "cell_type": "markdown",
   "metadata": {},
   "source": [
    "## In-memory montaging using bigfeta\n",
    "\n",
    "First download and unzip an example directory.  This example uses:\n",
    "21617_R1_166_T5_15_004637_20201231141040\n",
    "\n",
    "autoTEM acquisitions create jsons of tile metadata including automatically derived lens corrections and point correspondences from template matching."
   ]
  },
  {
   "cell_type": "code",
   "execution_count": 21,
   "metadata": {},
   "outputs": [],
   "source": [
    "import copy\n",
    "import os\n",
    "\n",
    "import numpy\n",
    "import pathlib\n",
    "\n",
    "# renderapi is on pypi as render-python.  Models and interfaces with Render for alignment metadata\n",
    "import renderapi\n",
    "\n",
    "# bigfeta alignment solver\n",
    "import bigfeta\n",
    "import bigfeta.bigfeta\n",
    "import bigfeta.utils\n"
   ]
  },
  {
   "cell_type": "code",
   "execution_count": 22,
   "metadata": {},
   "outputs": [],
   "source": [
    "montage_dir = \"/data/21617_R1_166_T5_15_004637_20201231141040/\"\n",
    "montage_dir_path = pathlib.Path(montage_dir)"
   ]
  },
  {
   "cell_type": "code",
   "execution_count": 29,
   "metadata": {},
   "outputs": [],
   "source": [
    "# read tile metadata as render-python object\n",
    "resolvedtiles_bn = \"resolvedtiles_input.json.gz\"\n",
    "resolvedtiles_path = montage_dir_path / resolvedtiles_bn\n",
    "\n",
    "input_resolvedtiles_json = bigfeta.utils.jsongz.load(str(resolvedtiles_path))\n",
    "input_resolvedtiles = renderapi.resolvedtiles.ResolvedTiles(json=input_resolvedtiles_json)"
   ]
  },
  {
   "cell_type": "code",
   "execution_count": 30,
   "metadata": {},
   "outputs": [],
   "source": [
    "# read point correspondences\n",
    "correspondences_bn = \"collection.json.gz\"\n",
    "correspondences_path = montage_dir_path / correspondences_bn\n",
    "\n",
    "input_correspondences = bigfeta.utils.jsongz.load(str(correspondences_path))"
   ]
  },
  {
   "cell_type": "markdown",
   "metadata": {},
   "source": [
    "### Solve for Affine Montage"
   ]
  },
  {
   "cell_type": "code",
   "execution_count": 73,
   "metadata": {},
   "outputs": [],
   "source": [
    "# solve for affine montage using specific parameters\n",
    "\n",
    "# BigFeta v1 can modify correspondences when building A -- copy to allow re-running\n",
    "matches = copy.deepcopy(input_correspondences)\n",
    "\n",
    "transform_name = \"affine\" # solve for affine transformation\n",
    "transform_apply = []  # no additional transforms to apply to describe point correspondence conditions\n",
    "\n",
    "# regularization dict with defined parameters.\n",
    "#   It can be necessary to sweep across these parameters to find an optimal\n",
    "#   configuration based on the montage and correspondence characteristics\n",
    "regularization_dict = {\n",
    "    \"translation_factor\": 1e-6,\n",
    "    \"default_lambda\": 1e4\n",
    "}\n",
    "\n",
    "\n",
    "matrix_assembly_dict = {\n",
    "    \"npts_min\": 5,  # minimum correspondences between tiles to consider\n",
    "    \"npts_max\": 500,  # maximum correspondences between tiles\n",
    "    \"choose_random\": False,  # do not randomly sample from correspondences when reducing to maximum points\n",
    "    \"depth\": [0],  # montage stitching considers intra-section matches\n",
    "    \"inverse_dz\": True,  # parameter not used in stitching -- whether to reduce weights as a function of inter-section pair distance\n",
    "    \"cross_pt_weight\": 0.5,  # parameter not used in stitching -- base weight for inter-section matches\n",
    "    \"explicit_weight_by_depth\": None,  # parameter not used in stitching -- specific weights given inter-section distances\n",
    "    \"montage_pt_weight\": 1.0  # base weight for intra-section matches\n",
    "}\n",
    "\n",
    "create_CSR_A_args = (\n",
    "    input_resolvedtiles, matches, transform_name,\n",
    "    transform_apply, regularization_dict,\n",
    "    matrix_assembly_dict\n",
    ")\n"
   ]
  },
  {
   "cell_type": "code",
   "execution_count": 74,
   "metadata": {},
   "outputs": [],
   "source": [
    "# create arrays used for solving system and tile object for output\n",
    "fr, draft_resolvedtiles = bigfeta.bigfeta.create_CSR_A_fromobjects(\n",
    "    *create_CSR_A_args, return_draft_resolvedtiles=True)"
   ]
  },
  {
   "cell_type": "code",
   "execution_count": 75,
   "metadata": {},
   "outputs": [],
   "source": [
    "# create output resolvedtiles based on draft resolvedtiles (this is probably unnecessary)\n",
    "output_rts = copy.deepcopy(draft_resolvedtiles)\n",
    "\n",
    "solution_d = bigfeta.solve.solve(\n",
    "    fr[\"A\"], fr[\"weights\"], fr[\"reg\"], fr[\"x\"], fr[\"rhs\"])\n",
    "\n",
    "# apply this result to the output resolvedtiles\n",
    "bigfeta.utils.update_tilespecs(output_rts, solution_d[\"x\"])\n"
   ]
  },
  {
   "cell_type": "code",
   "execution_count": 76,
   "metadata": {},
   "outputs": [
    {
     "name": "stdout",
     "output_type": "stream",
     "text": [
      "scale means: [1.0066988  1.02893452]\n",
      "scale stdev: [0.00378605 0.00481382]\n",
      "errors: [0.19593472 0.1246063 ]\n"
     ]
    }
   ],
   "source": [
    "# show residuals, scale stdev, and scale mean\n",
    "err_means = [e[0] for e in solution_d[\"err\"]]\n",
    "err_stds = [e[1] for e in solution_d[\"err\"]]\n",
    "errors = numpy.array(solution_d[\"error\"]) / len(output_rts.tilespecs)\n",
    "\n",
    "scales = numpy.array([ts.tforms[-1].scale\n",
    "                          for ts in output_rts.tilespecs])\n",
    "scale_mean = numpy.mean(scales, axis=0)\n",
    "scale_stdevs = numpy.std(scales, axis=0)\n",
    "\n",
    "print(f\"scale means: {scale_mean}\")\n",
    "print(f\"scale stdev: {scale_stdevs}\")\n",
    "print(f\"errors: {errors / scale_mean}\")"
   ]
  },
  {
   "cell_type": "markdown",
   "metadata": {},
   "source": [
    "Note that these correspondences taken as part of the autoTEM acquisition are selected from less deformed regions, so there are likely higher residuals (errors) than reported above at the e.g. the corners of the tiles."
   ]
  },
  {
   "cell_type": "markdown",
   "metadata": {},
   "source": [
    "### Next Steps:\n",
    " - write to render service using renderapi.resolvedtiles.put_tilespecs\n",
    " - view (using e.g. neuroglancer) or materialize"
   ]
  }
 ],
 "metadata": {
  "kernelspec": {
   "display_name": "Python 3",
   "language": "python",
   "name": "python3"
  },
  "language_info": {
   "codemirror_mode": {
    "name": "ipython",
    "version": 3
   },
   "file_extension": ".py",
   "mimetype": "text/x-python",
   "name": "python",
   "nbconvert_exporter": "python",
   "pygments_lexer": "ipython3",
   "version": "3.7.9"
  }
 },
 "nbformat": 4,
 "nbformat_minor": 5
}
